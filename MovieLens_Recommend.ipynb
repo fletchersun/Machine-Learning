{
  "nbformat": 4,
  "nbformat_minor": 0,
  "metadata": {
    "colab": {
      "name": "EAI6000_Final_GanjieSun.ipynb",
      "provenance": [],
      "collapsed_sections": []
    },
    "kernelspec": {
      "name": "python3",
      "display_name": "Python 3"
    }
  },
  "cells": [
    {
      "cell_type": "markdown",
      "metadata": {
        "id": "MdAsKyVDLfMK"
      },
      "source": [
        "This project aims at analyzing movielens data by using the following 3 methods: Collaborative Filtering(KNN),  Apriori, Matrix Factorization."
      ]
    },
    {
      "cell_type": "code",
      "metadata": {
        "id": "rfrNEu-OJNbH",
        "outputId": "e3db6968-aa68-430f-de54-4c7552b396cc",
        "colab": {
          "base_uri": "https://localhost:8080/",
          "height": 287
        }
      },
      "source": [
        "#load neccessary files and packages\n",
        "import pandas as pd\n",
        "data=pd.read_csv(\"/content/ratings.csv\")\n",
        "movieinfo = pd.read_csv('/content/movies.csv')\n",
        "!pip install deepctr\n",
        "!pip install surprise"
      ],
      "execution_count": 205,
      "outputs": [
        {
          "output_type": "stream",
          "text": [
            "Requirement already satisfied: deepctr in /usr/local/lib/python3.6/dist-packages (0.8.2)\n",
            "Requirement already satisfied: h5py in /usr/local/lib/python3.6/dist-packages (from deepctr) (2.10.0)\n",
            "Requirement already satisfied: requests in /usr/local/lib/python3.6/dist-packages (from deepctr) (2.23.0)\n",
            "Requirement already satisfied: numpy>=1.7 in /usr/local/lib/python3.6/dist-packages (from h5py->deepctr) (1.18.5)\n",
            "Requirement already satisfied: six in /usr/local/lib/python3.6/dist-packages (from h5py->deepctr) (1.15.0)\n",
            "Requirement already satisfied: certifi>=2017.4.17 in /usr/local/lib/python3.6/dist-packages (from requests->deepctr) (2020.6.20)\n",
            "Requirement already satisfied: chardet<4,>=3.0.2 in /usr/local/lib/python3.6/dist-packages (from requests->deepctr) (3.0.4)\n",
            "Requirement already satisfied: idna<3,>=2.5 in /usr/local/lib/python3.6/dist-packages (from requests->deepctr) (2.10)\n",
            "Requirement already satisfied: urllib3!=1.25.0,!=1.25.1,<1.26,>=1.21.1 in /usr/local/lib/python3.6/dist-packages (from requests->deepctr) (1.24.3)\n",
            "Requirement already satisfied: surprise in /usr/local/lib/python3.6/dist-packages (0.1)\n",
            "Requirement already satisfied: scikit-surprise in /usr/local/lib/python3.6/dist-packages (from surprise) (1.1.1)\n",
            "Requirement already satisfied: six>=1.10.0 in /usr/local/lib/python3.6/dist-packages (from scikit-surprise->surprise) (1.15.0)\n",
            "Requirement already satisfied: joblib>=0.11 in /usr/local/lib/python3.6/dist-packages (from scikit-surprise->surprise) (0.16.0)\n",
            "Requirement already satisfied: numpy>=1.11.2 in /usr/local/lib/python3.6/dist-packages (from scikit-surprise->surprise) (1.18.5)\n",
            "Requirement already satisfied: scipy>=1.0.0 in /usr/local/lib/python3.6/dist-packages (from scikit-surprise->surprise) (1.4.1)\n"
          ],
          "name": "stdout"
        }
      ]
    },
    {
      "cell_type": "code",
      "metadata": {
        "id": "C34hu6rWyafM",
        "outputId": "96133fb7-c392-428b-f8ce-60c1d1d71a0c",
        "colab": {
          "base_uri": "https://localhost:8080/",
          "height": 287
        }
      },
      "source": [
        "# Explore the sparcity\n",
        "print(data.shape[0]/data['userId'].unique().shape[0]/data['movieId'].unique().shape[0])\n",
        "print(data)"
      ],
      "execution_count": 210,
      "outputs": [
        {
          "output_type": "stream",
          "text": [
            "0.016999683055613623\n",
            "        userId  movieId  rating   timestamp\n",
            "0            1        1     4.0   964982703\n",
            "1            1        3     4.0   964981247\n",
            "2            1        6     4.0   964982224\n",
            "3            1       47     5.0   964983815\n",
            "4            1       50     5.0   964982931\n",
            "...        ...      ...     ...         ...\n",
            "100831     610   166534     4.0  1493848402\n",
            "100832     610   168248     5.0  1493850091\n",
            "100833     610   168250     5.0  1494273047\n",
            "100834     610   168252     5.0  1493846352\n",
            "100835     610   170875     3.0  1493846415\n",
            "\n",
            "[100836 rows x 4 columns]\n"
          ],
          "name": "stdout"
        }
      ]
    },
    {
      "cell_type": "code",
      "metadata": {
        "id": "zabkvgFEEBZW",
        "outputId": "75f9f924-ab7f-40f7-8cca-f1552f3655ff",
        "colab": {
          "base_uri": "https://localhost:8080/",
          "height": 179
        }
      },
      "source": [
        "from surprise import KNNWithMeans\n",
        "from surprise import Dataset, Reader\n",
        "from surprise import accuracy\n",
        "from surprise.model_selection import KFold\n",
        "\n",
        "# Data loading\n",
        "reader = Reader(line_format='user item rating timestamp', sep=',', skip_lines=1)\n",
        "data_SVD = Dataset.load_from_file('/content/ratings.csv', reader=reader)\n",
        "SVD_train_set = data_SVD.build_full_trainset()\n",
        "\n",
        "# KNN algorithm\n",
        "KNNalgo = KNNWithMeans(k=50, sim_options={'user_based': False, 'verbose': 'True'})\n",
        "# K-fold method\n",
        "kf = KFold(n_splits=3)\n",
        "# Train model\n",
        "for trainset, testset in kf.split(data_SVD):\n",
        "  KNNalgo.fit(trainset)\n",
        "  predictions = KNNalgo.test(testset)\n",
        "  # Calculating RMSE\n",
        "  accuracy.rmse(predictions, verbose=True)"
      ],
      "execution_count": 76,
      "outputs": [
        {
          "output_type": "stream",
          "text": [
            "Computing the msd similarity matrix...\n",
            "Done computing similarity matrix.\n",
            "RMSE: 0.8964\n",
            "Computing the msd similarity matrix...\n",
            "Done computing similarity matrix.\n",
            "RMSE: 0.9077\n",
            "Computing the msd similarity matrix...\n",
            "Done computing similarity matrix.\n",
            "RMSE: 0.8950\n"
          ],
          "name": "stdout"
        }
      ]
    },
    {
      "cell_type": "code",
      "metadata": {
        "id": "Moe8chCVhi4X",
        "outputId": "1d8c2213-c758-432e-9e60-c54110b79acc",
        "colab": {
          "base_uri": "https://localhost:8080/",
          "height": 71
        }
      },
      "source": [
        "#Input userid and movie id that you want to \n",
        "uid = 1\n",
        "iid = 6\n",
        "# Check the difference between real rating and predicted rating\n",
        "KNNpred = KNNalgo.predict(str(uid), str(iid))\n",
        "print(data[(data['userId']==uid)&(data['movieId']==iid)].drop(['timestamp'],axis=1))\n",
        "print('Pred Rating:',KNNpred.est)"
      ],
      "execution_count": 132,
      "outputs": [
        {
          "output_type": "stream",
          "text": [
            "   userId  movieId  rating\n",
            "2       1        6     4.0\n",
            "Pred Rating: 4.697345152783779\n"
          ],
          "name": "stdout"
        }
      ]
    },
    {
      "cell_type": "code",
      "metadata": {
        "id": "Mmfx2m0LF-nn",
        "outputId": "48e2c0d4-23cd-46a3-daf3-bdf7ba2fdc2f",
        "colab": {
          "base_uri": "https://localhost:8080/",
          "height": 35
        }
      },
      "source": [
        "userid_list=data['userId'].unique()\n",
        "movieid_list=data['movieId'].unique()\n",
        "print(userid_list.shape[0]*mivieid_list.shape[0])\n",
        "KNNtable=pd.DataFrame()\n",
        "# Input the userid that you want to predict for all movies\n",
        "i=5 #Number 5 user\n",
        "for j in range(0,mivieid_list.shape[0]-1):\n",
        "  # If can not find the real rating, then mark null as haven't watched\n",
        "  try: realdata=data[(data['userId']==userid_list[i])&(data['movieId']==movieid_list[j])]['rating'].iloc[0]\n",
        "  except: realdata='null'\n",
        "  KNNtable=KNNtable.append({'user_id': userid_list[i],'movie_id':movieid_list[j],'predict_rating':KNNalgo.predict(str(userid_list[i]), str(movieid_list[j])).est,'real_rating':realdata}, ignore_index=True)"
      ],
      "execution_count": 200,
      "outputs": [
        {
          "output_type": "stream",
          "text": [
            "5931640\n"
          ],
          "name": "stdout"
        }
      ]
    },
    {
      "cell_type": "code",
      "metadata": {
        "id": "MnTs-decaVTu",
        "outputId": "e00cfda6-81ac-426c-bb5f-fa57e02a8ed6",
        "colab": {
          "base_uri": "https://localhost:8080/",
          "height": 737
        }
      },
      "source": [
        "# Print prediction result to all movies and output as file \"PredictionTable.csv\"\"\n",
        "KNNtable = KNNtable.merge(movieinfo,how='left',left_on='movie_id',right_on='movieId',)\n",
        "pd.set_option('display.max_rows', 50)\n",
        "print(KNNtable.sort_values(by='predict_rating',ascending=False))\n",
        "KNNtable.to_csv('./PredictionTable.csv', sep=',', header=True, index=True)"
      ],
      "execution_count": 201,
      "outputs": [
        {
          "output_type": "stream",
          "text": [
            "      movie_id  predict_rating real_rating  user_id  movieId  \\\n",
            "3975  141928.0             5.0        null      6.0   141928   \n",
            "3991  149350.0             5.0        null      6.0   149350   \n",
            "1985  110130.0             5.0        null      6.0   110130   \n",
            "3999  156025.0             5.0        null      6.0   156025   \n",
            "7168   95149.0             5.0        null      6.0    95149   \n",
            "...        ...             ...         ...      ...      ...   \n",
            "8852  109897.0             1.0        null      6.0   109897   \n",
            "8855  114396.0             1.0        null      6.0   114396   \n",
            "8859  122246.0             1.0        null      6.0   122246   \n",
            "8862  134246.0             1.0        null      6.0   134246   \n",
            "857     5962.0             1.0        null      6.0     5962   \n",
            "\n",
            "                                       title  \\\n",
            "3975            Bloodsucking Bastards (2015)   \n",
            "3991                   Lumberjack Man (2015)   \n",
            "1985                     Nut Job, The (2014)   \n",
            "3999   Ice Age: The Great Egg-Scapade (2016)   \n",
            "7168  Superman/Batman: Public Enemies (2009)   \n",
            "...                                      ...   \n",
            "8852                       Son of God (2014)   \n",
            "8855                     Cesar Chavez (2014)   \n",
            "8859                    Tooth Fairy 2 (2012)   \n",
            "8862                         Survivor (2015)   \n",
            "857                  Body of Evidence (1993)   \n",
            "\n",
            "                                   genres  \n",
            "3975                        Comedy|Horror  \n",
            "3991                        Comedy|Horror  \n",
            "1985  Adventure|Animation|Children|Comedy  \n",
            "3999  Adventure|Animation|Children|Comedy  \n",
            "7168             Action|Animation|Fantasy  \n",
            "...                                   ...  \n",
            "8852                                Drama  \n",
            "8855                                Drama  \n",
            "8859                      Children|Comedy  \n",
            "8862                      Action|Thriller  \n",
            "857                        Drama|Thriller  \n",
            "\n",
            "[9723 rows x 7 columns]\n"
          ],
          "name": "stdout"
        }
      ]
    },
    {
      "cell_type": "code",
      "metadata": {
        "id": "nc0EkUCg0cBt",
        "outputId": "d7d3ad14-2ebf-4e93-ad67-c5cd1a6fa80e",
        "colab": {
          "base_uri": "https://localhost:8080/",
          "height": 125
        }
      },
      "source": [
        "from surprise import SVD\n",
        "from surprise import BaselineOnly, KNNBasic, NormalPredictor\n",
        "from surprise import accuracy\n",
        "import pandas as pd\n",
        "\n",
        "\n",
        "# ALS optimization\n",
        "bsl_options = {'method': 'als','n_epochs': 5,'reg_u': 12,'reg_i': 5}\n",
        "# SGD\n",
        "#bsl_options = {'method': 'sgd','n_epochs': 5}\n",
        "BSLalgo = BaselineOnly(bsl_options=bsl_options)\n",
        "#algo = BaselineOnly()\n",
        "#algo = NormalPredictor()\n",
        "\n",
        "# K-fold\n",
        "kf = KFold(n_splits=3)\n",
        "for trainset, testset in kf.split(data_SVD):\n",
        "    # Train\n",
        "    BSLalgo.fit(trainset)\n",
        "    predictions = BSLalgo.test(testset)\n",
        "    # RMSE\n",
        "    accuracy.rmse(predictions, verbose=True)\n",
        "    accuracy."
      ],
      "execution_count": 118,
      "outputs": [
        {
          "output_type": "stream",
          "text": [
            "Estimating biases using als...\n",
            "RMSE: 0.8674\n",
            "Estimating biases using als...\n",
            "RMSE: 0.8693\n",
            "Estimating biases using als...\n",
            "RMSE: 0.8750\n"
          ],
          "name": "stdout"
        }
      ]
    },
    {
      "cell_type": "code",
      "metadata": {
        "id": "C7h59f2RqxWO",
        "outputId": "4cf11c86-dc10-4c19-d9b1-9ab2aa3db86a",
        "colab": {
          "base_uri": "https://localhost:8080/",
          "height": 71
        }
      },
      "source": [
        "uid = 610\n",
        "iid = 170875\n",
        "\n",
        "BSLpred = BSLalgo.predict(str(uid), str(iid))\n",
        "print(data[(data['userId']==uid)&(data['movieId']==iid)].drop(['timestamp'],axis=1))\n",
        "print('Pred Rating:',BSLpred.est)"
      ],
      "execution_count": 203,
      "outputs": [
        {
          "output_type": "stream",
          "text": [
            "        userId  movieId  rating\n",
            "100835     610   170875     3.0\n",
            "Pred Rating: 3.440885611164198\n"
          ],
          "name": "stdout"
        }
      ]
    },
    {
      "cell_type": "code",
      "metadata": {
        "id": "jEJr__s1zm8g",
        "outputId": "f2123b65-c752-4634-a4fd-46bfb1da0637",
        "colab": {
          "base_uri": "https://localhost:8080/",
          "height": 89
        }
      },
      "source": [
        "from sklearn.metrics import mean_squared_error\n",
        "from sklearn.model_selection import train_test_split\n",
        "from sklearn.preprocessing import LabelEncoder\n",
        "\n",
        "from deepctr.models import NFM\n",
        "from deepctr.feature_column import SparseFeat, DenseFeat,get_feature_names\n",
        "sparse_features = [\"userId\", \"movieId\", 'timestamp']\n",
        "target = ['rating']\n",
        "\n",
        "# Label Encoding\n",
        "FMdata = data\n",
        "for feature in sparse_features:\n",
        "    lbe = LabelEncoder()\n",
        "    FMdata[feature] = lbe.fit_transform(FMdata[feature])\n",
        "# Calculate the # of Features\n",
        "fixlen_feature_columns = [SparseFeat(feature, FMdata[feature].nunique()) for feature in sparse_features]\n",
        "linear_feature_columns = fixlen_feature_columns\n",
        "dnn_feature_columns = fixlen_feature_columns\n",
        "feature_names = get_feature_names(linear_feature_columns + dnn_feature_columns)\n",
        "\n",
        "# Data Split\n",
        "train, test = train_test_split(FMdata, test_size=0.3)\n",
        "train_model_input = {name:train[name].values for name in feature_names}\n",
        "test_model_input = {name:test[name].values for name in feature_names}\n",
        "\n",
        "# Train with NFM\n",
        "model = NFM(linear_feature_columns, dnn_feature_columns, task='regression')\n",
        "model.compile(\"adam\", \"mse\", metrics=['mse'], )\n",
        "history = model.fit(train_model_input, train[target].values, batch_size=256, epochs=1, verbose=True, validation_split=0.3 )\n",
        "# Pred\n",
        "pred_ans = model.predict(test_model_input, batch_size=256)\n",
        "# RMSE\n",
        "mse = round(mean_squared_error(test[target].values, pred_ans), 4)\n",
        "rmse = mse ** 0.5\n",
        "print(\"test RMSE\", rmse)\n"
      ],
      "execution_count": 9,
      "outputs": [
        {
          "output_type": "stream",
          "text": [
            "/usr/local/lib/python3.6/dist-packages/tensorflow/python/framework/indexed_slices.py:432: UserWarning: Converting sparse IndexedSlices to a dense Tensor of unknown shape. This may consume a large amount of memory.\n",
            "  \"Converting sparse IndexedSlices to a dense Tensor of unknown shape. \"\n"
          ],
          "name": "stderr"
        },
        {
          "output_type": "stream",
          "text": [
            "194/194 [==============================] - 3s 15ms/step - loss: 3.1341 - mse: 3.1340 - val_loss: 0.9740 - val_mse: 0.9736\n",
            "test RMSE 0.9925220400575495\n"
          ],
          "name": "stdout"
        }
      ]
    },
    {
      "cell_type": "code",
      "metadata": {
        "id": "eg2lmSagssd-"
      },
      "source": [
        "all_input={name:data[name].values for name in feature_names}\n",
        "all_ans = model.predict(all_input,batch_size=256)"
      ],
      "execution_count": 10,
      "outputs": []
    },
    {
      "cell_type": "code",
      "metadata": {
        "id": "_SAWzSm-7kqj",
        "outputId": "27d28e76-02bd-4eb4-f0b5-ef825565fb61",
        "colab": {
          "base_uri": "https://localhost:8080/",
          "height": 53
        }
      },
      "source": [
        "data=pd.read_csv(\"/content/ratings.csv\")\n",
        "pred_matrix=data\n",
        "pred_matrix['pred']=all_ans.flatten()\n",
        "pred_matrix=pred_matrix.drop(['timestamp'],axis=1)\n",
        "\n",
        "uid = 610\n",
        "iid = 170875\n",
        "print(pred_matrix[(pred_matrix['userId']==uid)&(pred_matrix['movieId']==iid)])\n"
      ],
      "execution_count": 12,
      "outputs": [
        {
          "output_type": "stream",
          "text": [
            "        userId  movieId  rating      pred\n",
            "100835     610   170875     3.0  3.265137\n"
          ],
          "name": "stdout"
        }
      ]
    }
  ]
}